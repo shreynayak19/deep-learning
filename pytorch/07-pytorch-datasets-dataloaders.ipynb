{
 "cells": [
  {
   "cell_type": "markdown",
   "id": "889438e4",
   "metadata": {},
   "source": [
    "# PyTorch Dataset and DataLoader\n",
    "\n",
    "In this tutorial, we will learn how to:\n",
    "\n",
    "- Create a custom dataset using `torch.utils.data.Dataset`\n",
    "- Use `DataLoader` to batch and shuffle data\n",
    "- Apply simple transformations (if needed)\n",
    "\n",
    "These are essential for training neural networks efficiently in PyTorch.\n"
   ]
  },
  {
   "cell_type": "code",
   "execution_count": 1,
   "id": "e60823fc",
   "metadata": {},
   "outputs": [],
   "source": [
    "import torch\n",
    "from torch.utils.data import Dataset, DataLoader"
   ]
  },
  {
   "cell_type": "markdown",
   "id": "f8dd5a05",
   "metadata": {},
   "source": [
    "## Creating a Dummy Dataset\n",
    "\n",
    "Let's simulate a dataset of student grades. Each student has:\n",
    "\n",
    "- A feature vector: `[hours_studied, hours_slept]`\n",
    "- A target: `score`\n",
    "\n",
    "We'll create a custom Dataset class to manage this data.\n"
   ]
  },
  {
   "cell_type": "code",
   "execution_count": 2,
   "id": "607cc612",
   "metadata": {},
   "outputs": [],
   "source": [
    "# Sample data: [hours_studied, hours_slept], target: score out of 100\n",
    "students_data = [\n",
    "    [2, 9], [4, 8], [6, 7], [8, 6], [10, 5],\n",
    "    [1, 9], [3, 8], [5, 7], [7, 6], [9, 5]\n",
    "]\n",
    "scores = [50, 60, 70, 80, 90, 45, 55, 65, 75, 85]\n"
   ]
  },
  {
   "cell_type": "markdown",
   "id": "f0cc36cd",
   "metadata": {},
   "source": [
    "## Defining a Custom Dataset\n",
    "\n",
    "We inherit from `torch.utils.data.Dataset` and override:\n",
    "\n",
    "- `__init__`: to load and initialize data\n",
    "- `__len__`: to return the total number of samples\n",
    "- `__getitem__`: to fetch a data sample given an index\n"
   ]
  },
  {
   "cell_type": "code",
   "execution_count": null,
   "id": "80da7b82",
   "metadata": {},
   "outputs": [],
   "source": [
    "class StudentDataset(Dataset):\n",
    "    def __init__(self, features, targets):\n",
    "        self.features = torch.tensor(features, dtype=torch.float32)\n",
    "        self.targets = torch.tensor(targets, dtype=torch.float32)\n",
    "    \n",
    "    def __len__(self):\n",
    "        # Return total number of samples\n",
    "        return len(self.features)\n",
    "    \n",
    "    def __getitem__(self, index):\n",
    "        # Return one sample of data and label\n",
    "        return self.features[index], self.targets[index]\n"
   ]
  },
  {
   "cell_type": "markdown",
   "id": "67a70845",
   "metadata": {},
   "source": [
    "## Initialize Dataset\n",
    "\n",
    "We now create an instance of the `StudentDataset` class.\n"
   ]
  },
  {
   "cell_type": "code",
   "execution_count": 11,
   "id": "086df10b",
   "metadata": {},
   "outputs": [
    {
     "name": "stdout",
     "output_type": "stream",
     "text": [
      "(tensor([2., 9.]), tensor(50.))\n"
     ]
    }
   ],
   "source": [
    "dataset = StudentDataset(students_data, scores)\n",
    "\n",
    "# Let's inspect one sample\n",
    "print(dataset[0])\n"
   ]
  },
  {
   "cell_type": "markdown",
   "id": "9751bfac",
   "metadata": {},
   "source": [
    "## Using DataLoader\n",
    "\n",
    "The `DataLoader` provides:\n",
    "\n",
    "- Automatic batching\n",
    "- Shuffling of data\n",
    "- Parallel data loading (via multiprocessing)\n",
    "\n",
    "We use it to efficiently iterate over the dataset during training.\n"
   ]
  },
  {
   "cell_type": "code",
   "execution_count": 12,
   "id": "bf657130",
   "metadata": {},
   "outputs": [
    {
     "name": "stdout",
     "output_type": "stream",
     "text": [
      "Features:\n",
      " tensor([[4., 8.],\n",
      "        [8., 6.],\n",
      "        [3., 8.]])\n",
      "Targets:\n",
      " tensor([60., 80., 55.])\n",
      "------------------------------\n",
      "Features:\n",
      " tensor([[ 1.,  9.],\n",
      "        [ 2.,  9.],\n",
      "        [10.,  5.]])\n",
      "Targets:\n",
      " tensor([45., 50., 90.])\n",
      "------------------------------\n",
      "Features:\n",
      " tensor([[7., 6.],\n",
      "        [6., 7.],\n",
      "        [9., 5.]])\n",
      "Targets:\n",
      " tensor([75., 70., 85.])\n",
      "------------------------------\n",
      "Features:\n",
      " tensor([[5., 7.]])\n",
      "Targets:\n",
      " tensor([65.])\n",
      "------------------------------\n"
     ]
    }
   ],
   "source": [
    "# Create a DataLoader\n",
    "data_loader = DataLoader(dataset, batch_size=3, shuffle=True)\n",
    "\n",
    "# Iterate through batches\n",
    "for batch in data_loader:\n",
    "    features, targets = batch\n",
    "    print(\"Features:\\n\", features)\n",
    "    print(\"Targets:\\n\", targets)\n",
    "    print(\"-\" * 30)\n"
   ]
  }
 ],
 "metadata": {
  "kernelspec": {
   "display_name": "Python 3",
   "language": "python",
   "name": "python3"
  },
  "language_info": {
   "codemirror_mode": {
    "name": "ipython",
    "version": 3
   },
   "file_extension": ".py",
   "mimetype": "text/x-python",
   "name": "python",
   "nbconvert_exporter": "python",
   "pygments_lexer": "ipython3",
   "version": "3.11.11"
  }
 },
 "nbformat": 4,
 "nbformat_minor": 5
}
