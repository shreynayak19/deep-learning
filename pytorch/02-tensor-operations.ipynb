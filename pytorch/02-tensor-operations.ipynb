{
 "cells": [
  {
   "cell_type": "code",
   "execution_count": 2,
   "id": "3d2e78fa",
   "metadata": {},
   "outputs": [
    {
     "name": "stdout",
     "output_type": "stream",
     "text": [
      "2.7.0\n"
     ]
    }
   ],
   "source": [
    "import torch\n",
    "print(torch.__version__)"
   ]
  },
  {
   "cell_type": "markdown",
   "id": "8146f5e2",
   "metadata": {},
   "source": [
    "# Mathematical Operations in PyTorch\n",
    "\n",
    "This section demonstrates how to perform various mathematical operations using PyTorch, including scalar operations, element-wise operations, reductions, matrix operations, comparisons, and special functions.\n"
   ]
  },
  {
   "cell_type": "markdown",
   "id": "801d1507",
   "metadata": {},
   "source": [
    "## 1. Scalar Operations\n",
    "\n",
    "These operations apply a scalar value to every element in the tensor.\n"
   ]
  },
  {
   "cell_type": "code",
   "execution_count": 3,
   "id": "1ec59328",
   "metadata": {},
   "outputs": [
    {
     "data": {
      "text/plain": [
       "tensor([[0.7474, 0.7660],\n",
       "        [0.2648, 0.1678]])"
      ]
     },
     "execution_count": 3,
     "metadata": {},
     "output_type": "execute_result"
    }
   ],
   "source": [
    "x = torch.rand(2, 2)\n",
    "x"
   ]
  },
  {
   "cell_type": "code",
   "execution_count": 4,
   "id": "6166f051",
   "metadata": {},
   "outputs": [
    {
     "data": {
      "text/plain": [
       "tensor([[2.7474, 2.7660],\n",
       "        [2.2648, 2.1678]])"
      ]
     },
     "execution_count": 4,
     "metadata": {},
     "output_type": "execute_result"
    }
   ],
   "source": [
    "# Addition\n",
    "x + 2"
   ]
  },
  {
   "cell_type": "code",
   "execution_count": 5,
   "id": "259853ce",
   "metadata": {},
   "outputs": [
    {
     "data": {
      "text/plain": [
       "tensor([[-1.2526, -1.2340],\n",
       "        [-1.7352, -1.8322]])"
      ]
     },
     "execution_count": 5,
     "metadata": {},
     "output_type": "execute_result"
    }
   ],
   "source": [
    "# Subtraction\n",
    "x - 2"
   ]
  },
  {
   "cell_type": "code",
   "execution_count": 6,
   "id": "0be54cb6",
   "metadata": {},
   "outputs": [
    {
     "data": {
      "text/plain": [
       "tensor([[2.2422, 2.2981],\n",
       "        [0.7943, 0.5035]])"
      ]
     },
     "execution_count": 6,
     "metadata": {},
     "output_type": "execute_result"
    }
   ],
   "source": [
    "# Multiplication\n",
    "x * 3"
   ]
  },
  {
   "cell_type": "code",
   "execution_count": 7,
   "id": "5cf6b939",
   "metadata": {},
   "outputs": [
    {
     "data": {
      "text/plain": [
       "tensor([[0.2491, 0.2553],\n",
       "        [0.0883, 0.0559]])"
      ]
     },
     "execution_count": 7,
     "metadata": {},
     "output_type": "execute_result"
    }
   ],
   "source": [
    "# Division\n",
    "x / 3"
   ]
  },
  {
   "cell_type": "code",
   "execution_count": 13,
   "id": "63d03f15",
   "metadata": {},
   "outputs": [
    {
     "data": {
      "text/plain": [
       "tensor([[24., 25.],\n",
       "        [ 8.,  5.]])"
      ]
     },
     "execution_count": 13,
     "metadata": {},
     "output_type": "execute_result"
    }
   ],
   "source": [
    "# Integer division\n",
    "(x * 100) // 3"
   ]
  },
  {
   "cell_type": "code",
   "execution_count": 14,
   "id": "794d3bca",
   "metadata": {},
   "outputs": [
    {
     "data": {
      "text/plain": [
       "tensor([[0., 1.],\n",
       "        [0., 1.]])"
      ]
     },
     "execution_count": 14,
     "metadata": {},
     "output_type": "execute_result"
    }
   ],
   "source": [
    "# Modulo\n",
    "((x * 100) // 3) % 2"
   ]
  },
  {
   "cell_type": "markdown",
   "id": "7879041d",
   "metadata": {},
   "source": [
    "## 2. Element-wise Operations\n",
    "\n",
    "Element-wise operations are performed between two tensors of the same shape.\n"
   ]
  },
  {
   "cell_type": "code",
   "execution_count": 15,
   "id": "d3b41f66",
   "metadata": {},
   "outputs": [
    {
     "name": "stdout",
     "output_type": "stream",
     "text": [
      "tensor([[0.1525, 0.6581, 0.5156],\n",
      "        [0.8136, 0.7850, 0.0505]])\n",
      "tensor([[0.3336, 0.7287, 0.2173],\n",
      "        [0.4821, 0.5254, 0.9311]])\n"
     ]
    }
   ],
   "source": [
    "a = torch.rand(2, 3)\n",
    "b = torch.rand(2, 3)\n",
    "\n",
    "print(a)\n",
    "print(b)\n"
   ]
  },
  {
   "cell_type": "code",
   "execution_count": 16,
   "id": "d5303a41",
   "metadata": {},
   "outputs": [
    {
     "data": {
      "text/plain": [
       "tensor([[0.4860, 1.3868, 0.7329],\n",
       "        [1.2957, 1.3105, 0.9817]])"
      ]
     },
     "execution_count": 16,
     "metadata": {},
     "output_type": "execute_result"
    }
   ],
   "source": [
    "# Addition\n",
    "a + b"
   ]
  },
  {
   "cell_type": "code",
   "execution_count": 17,
   "id": "363ffd28",
   "metadata": {},
   "outputs": [
    {
     "data": {
      "text/plain": [
       "tensor([[-0.1811, -0.0706,  0.2982],\n",
       "        [ 0.3315,  0.2596, -0.8806]])"
      ]
     },
     "execution_count": 17,
     "metadata": {},
     "output_type": "execute_result"
    }
   ],
   "source": [
    "# Subtraction\n",
    "a - b"
   ]
  },
  {
   "cell_type": "code",
   "execution_count": 18,
   "id": "bc7c3d10",
   "metadata": {},
   "outputs": [
    {
     "data": {
      "text/plain": [
       "tensor([[0.0509, 0.4796, 0.1120],\n",
       "        [0.3922, 0.4125, 0.0470]])"
      ]
     },
     "execution_count": 18,
     "metadata": {},
     "output_type": "execute_result"
    }
   ],
   "source": [
    "# Multiplication\n",
    "a * b"
   ]
  },
  {
   "cell_type": "code",
   "execution_count": 19,
   "id": "4c64989c",
   "metadata": {},
   "outputs": [
    {
     "data": {
      "text/plain": [
       "tensor([[0.4571, 0.9032, 2.3722],\n",
       "        [1.6877, 1.4941, 0.0543]])"
      ]
     },
     "execution_count": 19,
     "metadata": {},
     "output_type": "execute_result"
    }
   ],
   "source": [
    "# Division\n",
    "a / b"
   ]
  },
  {
   "cell_type": "code",
   "execution_count": 20,
   "id": "3ecebd1b",
   "metadata": {},
   "outputs": [
    {
     "data": {
      "text/plain": [
       "tensor([[0.5340, 0.7372, 0.8659],\n",
       "        [0.9053, 0.8806, 0.0621]])"
      ]
     },
     "execution_count": 20,
     "metadata": {},
     "output_type": "execute_result"
    }
   ],
   "source": [
    "# Power\n",
    "a ** b"
   ]
  },
  {
   "cell_type": "code",
   "execution_count": 21,
   "id": "79a867b3",
   "metadata": {},
   "outputs": [
    {
     "data": {
      "text/plain": [
       "tensor([[0.1525, 0.6581, 0.0809],\n",
       "        [0.3315, 0.2596, 0.0505]])"
      ]
     },
     "execution_count": 21,
     "metadata": {},
     "output_type": "execute_result"
    }
   ],
   "source": [
    "# Modulo\n",
    "a % b"
   ]
  },
  {
   "cell_type": "code",
   "execution_count": 22,
   "id": "a31d4cd1",
   "metadata": {},
   "outputs": [],
   "source": [
    "c = torch.tensor([1, -2, 3, -4])\n"
   ]
  },
  {
   "cell_type": "code",
   "execution_count": 23,
   "id": "853fc43d",
   "metadata": {},
   "outputs": [
    {
     "data": {
      "text/plain": [
       "tensor([1, 2, 3, 4])"
      ]
     },
     "execution_count": 23,
     "metadata": {},
     "output_type": "execute_result"
    }
   ],
   "source": [
    "# Absolute value\n",
    "torch.abs(c)"
   ]
  },
  {
   "cell_type": "code",
   "execution_count": 24,
   "id": "91555a3b",
   "metadata": {},
   "outputs": [
    {
     "data": {
      "text/plain": [
       "tensor([-1,  2, -3,  4])"
      ]
     },
     "execution_count": 24,
     "metadata": {},
     "output_type": "execute_result"
    }
   ],
   "source": [
    "# Negation\n",
    "torch.neg(c)"
   ]
  },
  {
   "cell_type": "code",
   "execution_count": 25,
   "id": "f6bb2fcc",
   "metadata": {},
   "outputs": [],
   "source": [
    "d = torch.tensor([1.9, 2.3, 3.7, 4.4])"
   ]
  },
  {
   "cell_type": "code",
   "execution_count": 26,
   "id": "c4f60600",
   "metadata": {},
   "outputs": [
    {
     "data": {
      "text/plain": [
       "tensor([2., 2., 4., 4.])"
      ]
     },
     "execution_count": 26,
     "metadata": {},
     "output_type": "execute_result"
    }
   ],
   "source": [
    "# Round\n",
    "torch.round(d)"
   ]
  },
  {
   "cell_type": "code",
   "execution_count": 27,
   "id": "ae9501ac",
   "metadata": {},
   "outputs": [
    {
     "data": {
      "text/plain": [
       "tensor([2., 3., 4., 5.])"
      ]
     },
     "execution_count": 27,
     "metadata": {},
     "output_type": "execute_result"
    }
   ],
   "source": [
    "# Ceil\n",
    "torch.ceil(d)"
   ]
  },
  {
   "cell_type": "code",
   "execution_count": 28,
   "id": "6a21fdd4",
   "metadata": {},
   "outputs": [
    {
     "data": {
      "text/plain": [
       "tensor([1., 2., 3., 4.])"
      ]
     },
     "execution_count": 28,
     "metadata": {},
     "output_type": "execute_result"
    }
   ],
   "source": [
    "# Floor\n",
    "torch.floor(d)"
   ]
  },
  {
   "cell_type": "code",
   "execution_count": 29,
   "id": "d9528907",
   "metadata": {},
   "outputs": [
    {
     "data": {
      "text/plain": [
       "tensor([2.0000, 2.3000, 3.0000, 3.0000])"
      ]
     },
     "execution_count": 29,
     "metadata": {},
     "output_type": "execute_result"
    }
   ],
   "source": [
    "# Clamp values between 2 and 3\n",
    "torch.clamp(d, min=2, max=3)"
   ]
  },
  {
   "cell_type": "markdown",
   "id": "413a9564",
   "metadata": {},
   "source": [
    "## 3. Reduction Operations\n",
    "\n",
    "These operations reduce a tensor to a single value or a smaller shape by aggregating values along a dimension.\n"
   ]
  },
  {
   "cell_type": "code",
   "execution_count": 46,
   "id": "30bcfed2",
   "metadata": {},
   "outputs": [
    {
     "data": {
      "text/plain": [
       "tensor([[2., 2., 3.],\n",
       "        [8., 9., 3.]])"
      ]
     },
     "execution_count": 46,
     "metadata": {},
     "output_type": "execute_result"
    }
   ],
   "source": [
    "e = torch.randint(size=(2, 3), low=1, high=10, dtype=torch.float32)\n",
    "e"
   ]
  },
  {
   "cell_type": "code",
   "execution_count": 47,
   "id": "14430a1f",
   "metadata": {},
   "outputs": [
    {
     "data": {
      "text/plain": [
       "tensor(27.)"
      ]
     },
     "execution_count": 47,
     "metadata": {},
     "output_type": "execute_result"
    }
   ],
   "source": [
    "# Sum of all elements\n",
    "torch.sum(e)"
   ]
  },
  {
   "cell_type": "code",
   "execution_count": 48,
   "id": "39a190a1",
   "metadata": {},
   "outputs": [
    {
     "data": {
      "text/plain": [
       "tensor([10., 11.,  6.])"
      ]
     },
     "execution_count": 48,
     "metadata": {},
     "output_type": "execute_result"
    }
   ],
   "source": [
    "# Sum along columns (dim=0)\n",
    "torch.sum(e, dim=0)"
   ]
  },
  {
   "cell_type": "code",
   "execution_count": 49,
   "id": "20bdd320",
   "metadata": {},
   "outputs": [
    {
     "data": {
      "text/plain": [
       "tensor([ 7., 20.])"
      ]
     },
     "execution_count": 49,
     "metadata": {},
     "output_type": "execute_result"
    }
   ],
   "source": [
    "# Sum along rows\n",
    "torch.sum(e, dim=1)"
   ]
  },
  {
   "cell_type": "code",
   "execution_count": 50,
   "id": "f902bed3",
   "metadata": {},
   "outputs": [
    {
     "data": {
      "text/plain": [
       "tensor(4.5000)"
      ]
     },
     "execution_count": 50,
     "metadata": {},
     "output_type": "execute_result"
    }
   ],
   "source": [
    "# Mean of all elements\n",
    "torch.mean(e)\n"
   ]
  },
  {
   "cell_type": "code",
   "execution_count": 51,
   "id": "4d39ea05",
   "metadata": {},
   "outputs": [
    {
     "data": {
      "text/plain": [
       "tensor([5.0000, 5.5000, 3.0000])"
      ]
     },
     "execution_count": 51,
     "metadata": {},
     "output_type": "execute_result"
    }
   ],
   "source": [
    "# Mean along columns\n",
    "torch.mean(e, dim=0)\n"
   ]
  },
  {
   "cell_type": "code",
   "execution_count": 52,
   "id": "e94dfa48",
   "metadata": {},
   "outputs": [
    {
     "data": {
      "text/plain": [
       "tensor([2.3333, 6.6667])"
      ]
     },
     "execution_count": 52,
     "metadata": {},
     "output_type": "execute_result"
    }
   ],
   "source": [
    "# Mean along rows\n",
    "torch.mean(e, dim=1)"
   ]
  },
  {
   "cell_type": "code",
   "execution_count": 53,
   "id": "a7a3d5bf",
   "metadata": {},
   "outputs": [
    {
     "data": {
      "text/plain": [
       "tensor(3.)"
      ]
     },
     "execution_count": 53,
     "metadata": {},
     "output_type": "execute_result"
    }
   ],
   "source": [
    "# Median\n",
    "torch.median(e)\n"
   ]
  },
  {
   "cell_type": "code",
   "execution_count": 54,
   "id": "b42e2660",
   "metadata": {},
   "outputs": [
    {
     "data": {
      "text/plain": [
       "tensor(9.)"
      ]
     },
     "execution_count": 54,
     "metadata": {},
     "output_type": "execute_result"
    }
   ],
   "source": [
    "# Maximum\n",
    "torch.max(e)\n"
   ]
  },
  {
   "cell_type": "code",
   "execution_count": 55,
   "id": "3cb0ed45",
   "metadata": {},
   "outputs": [
    {
     "data": {
      "text/plain": [
       "tensor(2.)"
      ]
     },
     "execution_count": 55,
     "metadata": {},
     "output_type": "execute_result"
    }
   ],
   "source": [
    "# Minimum\n",
    "torch.min(e)\n"
   ]
  },
  {
   "cell_type": "code",
   "execution_count": 56,
   "id": "c38df175",
   "metadata": {},
   "outputs": [
    {
     "data": {
      "text/plain": [
       "tensor(2592.)"
      ]
     },
     "execution_count": 56,
     "metadata": {},
     "output_type": "execute_result"
    }
   ],
   "source": [
    "# Product of all elements\n",
    "torch.prod(e)"
   ]
  },
  {
   "cell_type": "code",
   "execution_count": 57,
   "id": "bda643dd",
   "metadata": {},
   "outputs": [
    {
     "data": {
      "text/plain": [
       "tensor(3.1464)"
      ]
     },
     "execution_count": 57,
     "metadata": {},
     "output_type": "execute_result"
    }
   ],
   "source": [
    "# Standard deviation\n",
    "torch.std(e)\n"
   ]
  },
  {
   "cell_type": "code",
   "execution_count": 58,
   "id": "7a45afd4",
   "metadata": {},
   "outputs": [
    {
     "data": {
      "text/plain": [
       "tensor(9.9000)"
      ]
     },
     "execution_count": 58,
     "metadata": {},
     "output_type": "execute_result"
    }
   ],
   "source": [
    "# Variance\n",
    "torch.var(e)\n"
   ]
  },
  {
   "cell_type": "code",
   "execution_count": 59,
   "id": "246c6771",
   "metadata": {},
   "outputs": [
    {
     "data": {
      "text/plain": [
       "(tensor(4), tensor(0))"
      ]
     },
     "execution_count": 59,
     "metadata": {},
     "output_type": "execute_result"
    }
   ],
   "source": [
    "# Index of max and min elements\n",
    "torch.argmax(e), torch.argmin(e)"
   ]
  },
  {
   "cell_type": "markdown",
   "id": "26c1c652",
   "metadata": {},
   "source": [
    "## 4. Matrix Operations\n",
    "\n",
    "Matrix operations include matrix multiplication, dot product, transpose, inverse, and determinant. These are fundamental in linear algebra and deep learning.\n"
   ]
  },
  {
   "cell_type": "code",
   "execution_count": 60,
   "id": "80b6d7d9",
   "metadata": {},
   "outputs": [
    {
     "name": "stdout",
     "output_type": "stream",
     "text": [
      "tensor([[1, 5, 7],\n",
      "        [2, 4, 6]])\n",
      "tensor([[2, 7],\n",
      "        [7, 3],\n",
      "        [8, 7]])\n"
     ]
    }
   ],
   "source": [
    "f = torch.randint(size=(2, 3), low=1, high=10)\n",
    "g = torch.randint(size=(3, 2), low=1, high=10)\n",
    "\n",
    "print(f)\n",
    "print(g)"
   ]
  },
  {
   "cell_type": "code",
   "execution_count": 61,
   "id": "04cdca1c",
   "metadata": {},
   "outputs": [
    {
     "data": {
      "text/plain": [
       "tensor([[93, 71],\n",
       "        [80, 68]])"
      ]
     },
     "execution_count": 61,
     "metadata": {},
     "output_type": "execute_result"
    }
   ],
   "source": [
    "# Matrix multiplication\n",
    "torch.matmul(f, g)\n"
   ]
  },
  {
   "cell_type": "code",
   "execution_count": 62,
   "id": "f912f897",
   "metadata": {},
   "outputs": [],
   "source": [
    "vector1 = torch.tensor([1, 2])\n",
    "vector2 = torch.tensor([3, 4])"
   ]
  },
  {
   "cell_type": "code",
   "execution_count": 63,
   "id": "5d824cb2",
   "metadata": {},
   "outputs": [
    {
     "data": {
      "text/plain": [
       "tensor(11)"
      ]
     },
     "execution_count": 63,
     "metadata": {},
     "output_type": "execute_result"
    }
   ],
   "source": [
    "# Dot product\n",
    "torch.dot(vector1, vector2)\n"
   ]
  },
  {
   "cell_type": "code",
   "execution_count": 64,
   "id": "998737b7",
   "metadata": {},
   "outputs": [
    {
     "data": {
      "text/plain": [
       "tensor([[1, 2],\n",
       "        [5, 4],\n",
       "        [7, 6]])"
      ]
     },
     "execution_count": 64,
     "metadata": {},
     "output_type": "execute_result"
    }
   ],
   "source": [
    "# Transpose\n",
    "torch.transpose(f, 0, 1)\n"
   ]
  },
  {
   "cell_type": "code",
   "execution_count": 66,
   "id": "aa839415",
   "metadata": {},
   "outputs": [
    {
     "data": {
      "text/plain": [
       "tensor([[1., 6., 3.],\n",
       "        [3., 6., 6.],\n",
       "        [5., 2., 3.]])"
      ]
     },
     "execution_count": 66,
     "metadata": {},
     "output_type": "execute_result"
    }
   ],
   "source": [
    "h = torch.randint(size=(3, 3), low=1, high=10, dtype=torch.float32)\n",
    "h\n"
   ]
  },
  {
   "cell_type": "code",
   "execution_count": 67,
   "id": "4dab6492",
   "metadata": {},
   "outputs": [
    {
     "data": {
      "text/plain": [
       "tensor(60.0000)"
      ]
     },
     "execution_count": 67,
     "metadata": {},
     "output_type": "execute_result"
    }
   ],
   "source": [
    "# Determinant\n",
    "torch.det(h)"
   ]
  },
  {
   "cell_type": "code",
   "execution_count": 68,
   "id": "053b0b4d",
   "metadata": {},
   "outputs": [
    {
     "data": {
      "text/plain": [
       "tensor([[ 0.1000, -0.2000,  0.3000],\n",
       "        [ 0.3500, -0.2000,  0.0500],\n",
       "        [-0.4000,  0.4667, -0.2000]])"
      ]
     },
     "execution_count": 68,
     "metadata": {},
     "output_type": "execute_result"
    }
   ],
   "source": [
    "# Inverse\n",
    "torch.inverse(h)\n"
   ]
  },
  {
   "cell_type": "markdown",
   "id": "7bf07927",
   "metadata": {},
   "source": [
    "## 5. Comparison Operations\n",
    "\n",
    "Comparison operations return boolean tensors by comparing elements of tensors. Common comparisons include greater than, less than, equal to, and not equal to.\n"
   ]
  },
  {
   "cell_type": "code",
   "execution_count": 69,
   "id": "c7bda456",
   "metadata": {},
   "outputs": [
    {
     "name": "stdout",
     "output_type": "stream",
     "text": [
      "tensor([[6, 9, 6],\n",
      "        [7, 4, 5]])\n",
      "tensor([[1, 3, 4],\n",
      "        [9, 8, 9]])\n"
     ]
    }
   ],
   "source": [
    "i = torch.randint(size=(2, 3), low=1, high=10)\n",
    "j = torch.randint(size=(2, 3), low=1, high=10)\n",
    "\n",
    "print(i)\n",
    "print(j)\n"
   ]
  },
  {
   "cell_type": "code",
   "execution_count": 70,
   "id": "1aaae8d0",
   "metadata": {},
   "outputs": [
    {
     "data": {
      "text/plain": [
       "tensor([[ True,  True,  True],\n",
       "        [False, False, False]])"
      ]
     },
     "execution_count": 70,
     "metadata": {},
     "output_type": "execute_result"
    }
   ],
   "source": [
    "# Greater than\n",
    "i > j\n"
   ]
  },
  {
   "cell_type": "code",
   "execution_count": 71,
   "id": "ff6c6447",
   "metadata": {},
   "outputs": [
    {
     "data": {
      "text/plain": [
       "tensor([[False, False, False],\n",
       "        [ True,  True,  True]])"
      ]
     },
     "execution_count": 71,
     "metadata": {},
     "output_type": "execute_result"
    }
   ],
   "source": [
    "# Less than\n",
    "i < j\n"
   ]
  },
  {
   "cell_type": "code",
   "execution_count": 72,
   "id": "eb34e1dc",
   "metadata": {},
   "outputs": [
    {
     "data": {
      "text/plain": [
       "tensor([[False, False, False],\n",
       "        [False, False, False]])"
      ]
     },
     "execution_count": 72,
     "metadata": {},
     "output_type": "execute_result"
    }
   ],
   "source": [
    "# Equal to\n",
    "i == j\n"
   ]
  },
  {
   "cell_type": "code",
   "execution_count": 73,
   "id": "2a537a9c",
   "metadata": {},
   "outputs": [
    {
     "data": {
      "text/plain": [
       "tensor([[True, True, True],\n",
       "        [True, True, True]])"
      ]
     },
     "execution_count": 73,
     "metadata": {},
     "output_type": "execute_result"
    }
   ],
   "source": [
    "# Not equal to\n",
    "i != j\n"
   ]
  },
  {
   "cell_type": "code",
   "execution_count": 74,
   "id": "04ddce0c",
   "metadata": {},
   "outputs": [
    {
     "data": {
      "text/plain": [
       "tensor([[ True,  True,  True],\n",
       "        [False, False, False]])"
      ]
     },
     "execution_count": 74,
     "metadata": {},
     "output_type": "execute_result"
    }
   ],
   "source": [
    "# Greater than or equal to\n",
    "i >= j\n"
   ]
  },
  {
   "cell_type": "code",
   "execution_count": 75,
   "id": "fcb0457c",
   "metadata": {},
   "outputs": [
    {
     "data": {
      "text/plain": [
       "tensor([[False, False, False],\n",
       "        [ True,  True,  True]])"
      ]
     },
     "execution_count": 75,
     "metadata": {},
     "output_type": "execute_result"
    }
   ],
   "source": [
    "# Less than or equal to\n",
    "i <= j\n"
   ]
  },
  {
   "cell_type": "markdown",
   "id": "1a1add87",
   "metadata": {},
   "source": [
    "## 6. Special Functions\n",
    "\n",
    "PyTorch provides several advanced mathematical functions, including logarithmic, exponential, square root, and common activation functions like sigmoid, softmax, and ReLU.\n"
   ]
  },
  {
   "cell_type": "code",
   "execution_count": 76,
   "id": "1ea7ee03",
   "metadata": {},
   "outputs": [
    {
     "data": {
      "text/plain": [
       "tensor([[8., 3., 7.],\n",
       "        [5., 5., 5.]])"
      ]
     },
     "execution_count": 76,
     "metadata": {},
     "output_type": "execute_result"
    }
   ],
   "source": [
    "k = torch.randint(size=(2, 3), low=1, high=10, dtype=torch.float32)\n",
    "k\n"
   ]
  },
  {
   "cell_type": "code",
   "execution_count": 77,
   "id": "2a79e5a3",
   "metadata": {},
   "outputs": [
    {
     "data": {
      "text/plain": [
       "tensor([[2.0794, 1.0986, 1.9459],\n",
       "        [1.6094, 1.6094, 1.6094]])"
      ]
     },
     "execution_count": 77,
     "metadata": {},
     "output_type": "execute_result"
    }
   ],
   "source": [
    "# Natural logarithm\n",
    "torch.log(k)\n"
   ]
  },
  {
   "cell_type": "code",
   "execution_count": 78,
   "id": "79f96e38",
   "metadata": {},
   "outputs": [
    {
     "data": {
      "text/plain": [
       "tensor([[2980.9580,   20.0855, 1096.6332],\n",
       "        [ 148.4132,  148.4132,  148.4132]])"
      ]
     },
     "execution_count": 78,
     "metadata": {},
     "output_type": "execute_result"
    }
   ],
   "source": [
    "# Exponential\n",
    "torch.exp(k)\n"
   ]
  },
  {
   "cell_type": "code",
   "execution_count": 79,
   "id": "c5c4f332",
   "metadata": {},
   "outputs": [
    {
     "data": {
      "text/plain": [
       "tensor([[2.8284, 1.7321, 2.6458],\n",
       "        [2.2361, 2.2361, 2.2361]])"
      ]
     },
     "execution_count": 79,
     "metadata": {},
     "output_type": "execute_result"
    }
   ],
   "source": [
    "# Square root\n",
    "torch.sqrt(k)\n"
   ]
  },
  {
   "cell_type": "code",
   "execution_count": 80,
   "id": "50c07a26",
   "metadata": {},
   "outputs": [
    {
     "data": {
      "text/plain": [
       "tensor([[0.9997, 0.9526, 0.9991],\n",
       "        [0.9933, 0.9933, 0.9933]])"
      ]
     },
     "execution_count": 80,
     "metadata": {},
     "output_type": "execute_result"
    }
   ],
   "source": [
    "# Sigmoid function\n",
    "torch.sigmoid(k)\n"
   ]
  },
  {
   "cell_type": "code",
   "execution_count": 81,
   "id": "d3069cc9",
   "metadata": {},
   "outputs": [
    {
     "data": {
      "text/plain": [
       "tensor([[0.9526, 0.1192, 0.8808],\n",
       "        [0.0474, 0.8808, 0.1192]])"
      ]
     },
     "execution_count": 81,
     "metadata": {},
     "output_type": "execute_result"
    }
   ],
   "source": [
    "# Softmax function\n",
    "torch.softmax(k, dim=0)\n"
   ]
  },
  {
   "cell_type": "code",
   "execution_count": 82,
   "id": "f293dcf0",
   "metadata": {},
   "outputs": [
    {
     "data": {
      "text/plain": [
       "tensor([[8., 3., 7.],\n",
       "        [5., 5., 5.]])"
      ]
     },
     "execution_count": 82,
     "metadata": {},
     "output_type": "execute_result"
    }
   ],
   "source": [
    "# ReLU function\n",
    "torch.relu(k)\n"
   ]
  },
  {
   "cell_type": "markdown",
   "id": "e500520c",
   "metadata": {},
   "source": [
    "## 7. Inplace Operations\n",
    "\n",
    "In-place operations directly modify the content of a tensor without creating a new one. These operations are memory-efficient but should be used with care, especially when working with tensors that require gradient tracking.\n",
    "\n",
    "In PyTorch, in-place operations are usually marked with an underscore at the end of the method name (e.g., `add_()`, `relu_()`).\n"
   ]
  },
  {
   "cell_type": "code",
   "execution_count": 83,
   "id": "2fa7f5d4",
   "metadata": {},
   "outputs": [
    {
     "name": "stdout",
     "output_type": "stream",
     "text": [
      "tensor([[0.9912, 0.0533, 0.6946],\n",
      "        [0.9900, 0.7926, 0.8401]])\n",
      "tensor([[0.6410, 0.9529, 0.9904],\n",
      "        [0.1010, 0.5023, 0.5961]])\n"
     ]
    }
   ],
   "source": [
    "m = torch.rand(2, 3)\n",
    "n = torch.rand(2, 3)\n",
    "\n",
    "print(m)\n",
    "print(n)\n"
   ]
  },
  {
   "cell_type": "code",
   "execution_count": 84,
   "id": "1b2af11f",
   "metadata": {},
   "outputs": [
    {
     "data": {
      "text/plain": [
       "tensor([[1.6322, 1.0062, 1.6850],\n",
       "        [1.0910, 1.2949, 1.4361]])"
      ]
     },
     "execution_count": 84,
     "metadata": {},
     "output_type": "execute_result"
    }
   ],
   "source": [
    "# In-place addition: modifies m directly\n",
    "m.add_(n)\n",
    "m\n"
   ]
  },
  {
   "cell_type": "code",
   "execution_count": 85,
   "id": "e6ed8094",
   "metadata": {},
   "outputs": [
    {
     "data": {
      "text/plain": [
       "tensor([[0.6410, 0.9529, 0.9904],\n",
       "        [0.1010, 0.5023, 0.5961]])"
      ]
     },
     "execution_count": 85,
     "metadata": {},
     "output_type": "execute_result"
    }
   ],
   "source": [
    "# n remains unchanged\n",
    "n\n"
   ]
  },
  {
   "cell_type": "code",
   "execution_count": 86,
   "id": "17126ef0",
   "metadata": {},
   "outputs": [
    {
     "data": {
      "text/plain": [
       "tensor([[1.6322, 1.0062, 1.6850],\n",
       "        [1.0910, 1.2949, 1.4361]])"
      ]
     },
     "execution_count": 86,
     "metadata": {},
     "output_type": "execute_result"
    }
   ],
   "source": [
    "# relu returns a new tensor (not in-place)\n",
    "torch.relu(m)\n"
   ]
  },
  {
   "cell_type": "code",
   "execution_count": 87,
   "id": "c86a514a",
   "metadata": {},
   "outputs": [
    {
     "data": {
      "text/plain": [
       "tensor([[1.6322, 1.0062, 1.6850],\n",
       "        [1.0910, 1.2949, 1.4361]])"
      ]
     },
     "execution_count": 87,
     "metadata": {},
     "output_type": "execute_result"
    }
   ],
   "source": [
    "# In-place ReLU: modifies m directly\n",
    "m.relu_()\n",
    "m\n"
   ]
  },
  {
   "cell_type": "markdown",
   "id": "91247452",
   "metadata": {},
   "source": [
    "## 8. Copying a Tensor\n",
    "\n",
    "In PyTorch, assigning one tensor to another using `b = a` does **not** create a new copy. Instead, both variables point to the same memory location. Any modification to one will affect the other.\n",
    "\n",
    "To create an actual copy, use `a.clone()` which returns a new tensor with the same data but a different memory address.\n"
   ]
  },
  {
   "cell_type": "code",
   "execution_count": 88,
   "id": "f4f21a6b",
   "metadata": {},
   "outputs": [
    {
     "data": {
      "text/plain": [
       "tensor([[0.3239, 0.4366, 0.5905],\n",
       "        [0.6740, 0.4838, 0.5456]])"
      ]
     },
     "execution_count": 88,
     "metadata": {},
     "output_type": "execute_result"
    }
   ],
   "source": [
    "# Create a tensor 'a'\n",
    "a = torch.rand(2, 3)\n",
    "a\n"
   ]
  },
  {
   "cell_type": "code",
   "execution_count": 89,
   "id": "988c9189",
   "metadata": {},
   "outputs": [
    {
     "data": {
      "text/plain": [
       "tensor([[0.3239, 0.4366, 0.5905],\n",
       "        [0.6740, 0.4838, 0.5456]])"
      ]
     },
     "execution_count": 89,
     "metadata": {},
     "output_type": "execute_result"
    }
   ],
   "source": [
    "# Assign 'a' to 'b' (no new memory is allocated)\n",
    "b = a\n",
    "b\n"
   ]
  },
  {
   "cell_type": "code",
   "execution_count": 90,
   "id": "02786190",
   "metadata": {},
   "outputs": [
    {
     "data": {
      "text/plain": [
       "tensor([[0.0000, 0.4366, 0.5905],\n",
       "        [0.6740, 0.4838, 0.5456]])"
      ]
     },
     "execution_count": 90,
     "metadata": {},
     "output_type": "execute_result"
    }
   ],
   "source": [
    "# Modifying 'a' also changes 'b' since they share memory\n",
    "a[0][0] = 0\n",
    "a\n"
   ]
  },
  {
   "cell_type": "code",
   "execution_count": 91,
   "id": "00ef3181",
   "metadata": {},
   "outputs": [
    {
     "data": {
      "text/plain": [
       "tensor([[0.0000, 0.4366, 0.5905],\n",
       "        [0.6740, 0.4838, 0.5456]])"
      ]
     },
     "execution_count": 91,
     "metadata": {},
     "output_type": "execute_result"
    }
   ],
   "source": [
    "# 'b' reflects the change in 'a'\n",
    "b\n"
   ]
  },
  {
   "cell_type": "code",
   "execution_count": 92,
   "id": "08a29c6a",
   "metadata": {},
   "outputs": [
    {
     "data": {
      "text/plain": [
       "(5041150224, 5041150224)"
      ]
     },
     "execution_count": 92,
     "metadata": {},
     "output_type": "execute_result"
    }
   ],
   "source": [
    "# Check memory locations\n",
    "id(a), id(b)  # Same ID means same object in memory\n"
   ]
  },
  {
   "cell_type": "code",
   "execution_count": 93,
   "id": "8f3855a9",
   "metadata": {},
   "outputs": [
    {
     "data": {
      "text/plain": [
       "tensor([[0.0000, 0.4366, 0.5905],\n",
       "        [0.6740, 0.4838, 0.5456]])"
      ]
     },
     "execution_count": 93,
     "metadata": {},
     "output_type": "execute_result"
    }
   ],
   "source": [
    "# Create a true copy of 'a' using clone\n",
    "b = a.clone()\n",
    "a\n"
   ]
  },
  {
   "cell_type": "code",
   "execution_count": 94,
   "id": "928b07f6",
   "metadata": {},
   "outputs": [
    {
     "data": {
      "text/plain": [
       "tensor([[0.0000, 0.4366, 0.5905],\n",
       "        [0.6740, 0.4838, 0.5456]])"
      ]
     },
     "execution_count": 94,
     "metadata": {},
     "output_type": "execute_result"
    }
   ],
   "source": [
    "# 'b' now holds a separate copy of the data\n",
    "b\n"
   ]
  },
  {
   "cell_type": "code",
   "execution_count": 95,
   "id": "7a44b282",
   "metadata": {},
   "outputs": [
    {
     "data": {
      "text/plain": [
       "tensor([[10.0000,  0.4366,  0.5905],\n",
       "        [ 0.6740,  0.4838,  0.5456]])"
      ]
     },
     "execution_count": 95,
     "metadata": {},
     "output_type": "execute_result"
    }
   ],
   "source": [
    "# Modify 'a' again\n",
    "a[0][0] = 10\n",
    "a\n"
   ]
  },
  {
   "cell_type": "code",
   "execution_count": 96,
   "id": "1495ea92",
   "metadata": {},
   "outputs": [
    {
     "data": {
      "text/plain": [
       "tensor([[0.0000, 0.4366, 0.5905],\n",
       "        [0.6740, 0.4838, 0.5456]])"
      ]
     },
     "execution_count": 96,
     "metadata": {},
     "output_type": "execute_result"
    }
   ],
   "source": [
    "# 'b' remains unchanged since it's now a separate copy\n",
    "b\n"
   ]
  },
  {
   "cell_type": "code",
   "execution_count": 97,
   "id": "45eda959",
   "metadata": {},
   "outputs": [
    {
     "data": {
      "text/plain": [
       "(5041150224, 5041152240)"
      ]
     },
     "execution_count": 97,
     "metadata": {},
     "output_type": "execute_result"
    }
   ],
   "source": [
    "# Check memory locations again\n",
    "id(a), id(b)  # Different IDs indicate different objects\n"
   ]
  }
 ],
 "metadata": {
  "kernelspec": {
   "display_name": "Python 3",
   "language": "python",
   "name": "python3"
  },
  "language_info": {
   "codemirror_mode": {
    "name": "ipython",
    "version": 3
   },
   "file_extension": ".py",
   "mimetype": "text/x-python",
   "name": "python",
   "nbconvert_exporter": "python",
   "pygments_lexer": "ipython3",
   "version": "3.11.11"
  }
 },
 "nbformat": 4,
 "nbformat_minor": 5
}
